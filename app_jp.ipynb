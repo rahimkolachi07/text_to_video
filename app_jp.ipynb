{
 "cells": [
  {
   "cell_type": "code",
   "execution_count": 1,
   "metadata": {},
   "outputs": [
    {
     "name": "stdout",
     "output_type": "stream",
     "text": [
      "Collecting accelerate\n",
      "  Using cached accelerate-0.27.2-py3-none-any.whl.metadata (18 kB)\n",
      "Requirement already satisfied: numpy>=1.17 in e:\\hecktobyte\\story_video_creation\\myenv\\lib\\site-packages (from accelerate) (1.26.4)\n",
      "Requirement already satisfied: packaging>=20.0 in e:\\hecktobyte\\story_video_creation\\myenv\\lib\\site-packages (from accelerate) (23.2)\n",
      "Requirement already satisfied: psutil in e:\\hecktobyte\\story_video_creation\\myenv\\lib\\site-packages (from accelerate) (5.9.8)\n",
      "Requirement already satisfied: pyyaml in e:\\hecktobyte\\story_video_creation\\myenv\\lib\\site-packages (from accelerate) (6.0.1)\n",
      "Requirement already satisfied: torch>=1.10.0 in e:\\hecktobyte\\story_video_creation\\myenv\\lib\\site-packages (from accelerate) (2.2.1)\n",
      "Requirement already satisfied: huggingface-hub in e:\\hecktobyte\\story_video_creation\\myenv\\lib\\site-packages (from accelerate) (0.21.4)\n",
      "Requirement already satisfied: safetensors>=0.3.1 in e:\\hecktobyte\\story_video_creation\\myenv\\lib\\site-packages (from accelerate) (0.4.2)\n",
      "Requirement already satisfied: filelock in e:\\hecktobyte\\story_video_creation\\myenv\\lib\\site-packages (from torch>=1.10.0->accelerate) (3.13.1)\n",
      "Requirement already satisfied: typing-extensions>=4.8.0 in e:\\hecktobyte\\story_video_creation\\myenv\\lib\\site-packages (from torch>=1.10.0->accelerate) (4.10.0)\n",
      "Requirement already satisfied: sympy in e:\\hecktobyte\\story_video_creation\\myenv\\lib\\site-packages (from torch>=1.10.0->accelerate) (1.12)\n",
      "Requirement already satisfied: networkx in e:\\hecktobyte\\story_video_creation\\myenv\\lib\\site-packages (from torch>=1.10.0->accelerate) (3.2.1)\n",
      "Requirement already satisfied: jinja2 in e:\\hecktobyte\\story_video_creation\\myenv\\lib\\site-packages (from torch>=1.10.0->accelerate) (3.1.3)\n",
      "Requirement already satisfied: fsspec in e:\\hecktobyte\\story_video_creation\\myenv\\lib\\site-packages (from torch>=1.10.0->accelerate) (2024.2.0)\n",
      "Requirement already satisfied: requests in e:\\hecktobyte\\story_video_creation\\myenv\\lib\\site-packages (from huggingface-hub->accelerate) (2.31.0)\n",
      "Requirement already satisfied: tqdm>=4.42.1 in e:\\hecktobyte\\story_video_creation\\myenv\\lib\\site-packages (from huggingface-hub->accelerate) (4.66.2)\n",
      "Requirement already satisfied: colorama in e:\\hecktobyte\\story_video_creation\\myenv\\lib\\site-packages (from tqdm>=4.42.1->huggingface-hub->accelerate) (0.4.6)\n",
      "Requirement already satisfied: MarkupSafe>=2.0 in e:\\hecktobyte\\story_video_creation\\myenv\\lib\\site-packages (from jinja2->torch>=1.10.0->accelerate) (2.1.5)\n",
      "Requirement already satisfied: charset-normalizer<4,>=2 in e:\\hecktobyte\\story_video_creation\\myenv\\lib\\site-packages (from requests->huggingface-hub->accelerate) (3.3.2)\n",
      "Requirement already satisfied: idna<4,>=2.5 in e:\\hecktobyte\\story_video_creation\\myenv\\lib\\site-packages (from requests->huggingface-hub->accelerate) (3.6)\n",
      "Requirement already satisfied: urllib3<3,>=1.21.1 in e:\\hecktobyte\\story_video_creation\\myenv\\lib\\site-packages (from requests->huggingface-hub->accelerate) (2.2.1)\n",
      "Requirement already satisfied: certifi>=2017.4.17 in e:\\hecktobyte\\story_video_creation\\myenv\\lib\\site-packages (from requests->huggingface-hub->accelerate) (2024.2.2)\n",
      "Requirement already satisfied: mpmath>=0.19 in e:\\hecktobyte\\story_video_creation\\myenv\\lib\\site-packages (from sympy->torch>=1.10.0->accelerate) (1.3.0)\n",
      "Using cached accelerate-0.27.2-py3-none-any.whl (279 kB)\n",
      "Installing collected packages: accelerate\n",
      "Successfully installed accelerate-0.27.2\n"
     ]
    }
   ],
   "source": [
    "!pip install accelerate"
   ]
  },
  {
   "cell_type": "code",
   "execution_count": 2,
   "metadata": {},
   "outputs": [
    {
     "name": "stderr",
     "output_type": "stream",
     "text": [
      "e:\\Hecktobyte\\story_video_creation\\myenv\\Lib\\site-packages\\tqdm\\auto.py:21: TqdmWarning: IProgress not found. Please update jupyter and ipywidgets. See https://ipywidgets.readthedocs.io/en/stable/user_install.html\n",
      "  from .autonotebook import tqdm as notebook_tqdm\n",
      "e:\\Hecktobyte\\story_video_creation\\myenv\\Lib\\site-packages\\diffusers\\utils\\outputs.py:63: UserWarning: torch.utils._pytree._register_pytree_node is deprecated. Please use torch.utils._pytree.register_pytree_node instead.\n",
      "  torch.utils._pytree._register_pytree_node(\n"
     ]
    }
   ],
   "source": [
    "import torch\n",
    "from diffusers import AnimateDiffPipeline, LCMScheduler, MotionAdapter\n",
    "from diffusers.utils import export_to_gif\n",
    "import warnings\n"
   ]
  },
  {
   "cell_type": "code",
   "execution_count": 3,
   "metadata": {},
   "outputs": [
    {
     "name": "stderr",
     "output_type": "stream",
     "text": [
      "Fetching 15 files:   0%|          | 0/15 [00:00<?, ?it/s]e:\\Hecktobyte\\story_video_creation\\myenv\\Lib\\site-packages\\huggingface_hub\\file_download.py:1006: UserWarning: Not enough free disk space to download the file. The expected file size is: 3438.17 MB. The target location C:\\Users\\Rahim\\.cache\\huggingface\\hub only has 3389.67 MB free disk space.\n",
      "  warnings.warn(\n",
      "e:\\Hecktobyte\\story_video_creation\\myenv\\Lib\\site-packages\\huggingface_hub\\file_download.py:1006: UserWarning: Not enough free disk space to download the file. The expected file size is: 3438.17 MB. The target location C:\\Users\\Rahim\\.cache\\huggingface\\hub\\models--emilianJR--epiCRealism\\blobs only has 3389.67 MB free disk space.\n",
      "  warnings.warn(\n"
     ]
    }
   ],
   "source": [
    "adapter = MotionAdapter.from_pretrained(\"wangfuyun/AnimateLCM\", torch_dtype=torch.float16)\n",
    "pipe = AnimateDiffPipeline.from_pretrained(\"emilianJR/epiCRealism\", motion_adapter=adapter, torch_dtype=torch.float16)\n",
    "pipe.scheduler = LCMScheduler.from_config(pipe.scheduler.config, beta_schedule=\"linear\")\n",
    "\n",
    "pipe.load_lora_weights(\"wangfuyun/AnimateLCM\", weight_name=\"AnimateLCM_sd15_t2v_lora.safetensors\", adapter_name=\"lcm-lora\")\n",
    "pipe.set_adapters([\"lcm-lora\"], [0.8])\n",
    "\n",
    "pipe.enable_vae_slicing()\n",
    "pipe.enable_model_cpu_offload()"
   ]
  },
  {
   "cell_type": "code",
   "execution_count": null,
   "metadata": {},
   "outputs": [],
   "source": [
    "output = pipe(\n",
    "    prompt=\"make walking in jungle \",\n",
    "    negative_prompt=\"bad quality, worse quality, low resolution\",\n",
    "    num_frames=16,\n",
    "    guidance_scale=2.0,\n",
    "    num_inference_steps=6,\n",
    "    generator=torch.Generator(\"cpu\").manual_seed(0),\n",
    ")\n",
    "\n",
    "frames = output.frames[0]\n",
    "export_to_gif(frames, \"animatelcm.gif\")"
   ]
  }
 ],
 "metadata": {
  "kernelspec": {
   "display_name": "myenv",
   "language": "python",
   "name": "python3"
  },
  "language_info": {
   "codemirror_mode": {
    "name": "ipython",
    "version": 3
   },
   "file_extension": ".py",
   "mimetype": "text/x-python",
   "name": "python",
   "nbconvert_exporter": "python",
   "pygments_lexer": "ipython3",
   "version": "3.12.1"
  }
 },
 "nbformat": 4,
 "nbformat_minor": 2
}
